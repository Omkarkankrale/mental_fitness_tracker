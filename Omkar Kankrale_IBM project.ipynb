## **Importing Libraries:**
import warnings
warnings.filterwarnings('ignore')

import pandas as pd    #data processing , csv file I/O
import numpy as np     #linear algebra
import seaborn as sns       #python data visualization library
import matplotlib.pyplot as plt  #matplot is the low level graph plotting library
import plotly.express as px   #allows you to create interactive plot with very little code
# **Importing The Dataset**
ds1=pd.read_csv('mental-and-substance-use-as-share-of-disease.csv')   #data files
ds2=pd.read_csv('prevalence-by-mental-and-substance-use-disorder.csv')


ds1.head()
ds2.head()
#Merging the Dataset for optimal results

dataset=pd.merge(ds1,ds2)
dataset.head(10)
# **Cleaning the Dataset**




#missing values in the dataset,
dataset.isnull().sum()
#drop the coloum
dataset.drop('Code',axis=1,inplace=True)
dataset.head(10)
sns.pairplot(dataset,corner=True)  #data visulization
plt.show()
#check the dataset size and datset shape
dataset.size,dataset.shape
# Define the new column names
new_columns = ['Country', 'Year', 'Schizophrenia', 'Bipolar_disorder', 'Eating_disorder', 'Anxiety', 'drug_usage', 'depression', 'alcohol', 'mental_fitness']

# Assign the new column names to dataset.columns
dataset.columns = new_columns

dataset.head(10)
## **Visulization**
# Filter numeric columns
numeric_df = dataset.select_dtypes(include=[float, int])

# Calculate the correlation matrix
corr_matrix = numeric_df.corr()

# Plot the heatmap
plt.figure(figsize=(12, 6))
sns.heatmap(corr_matrix, annot=True, cmap='Blues')
plt.show()

mean= dataset['mental_fitness'].mean()
mean
import plotly.express as px

# Assuming you have a DataFrame called 'dataset' with columns 'Year', 'mental_fitness', and 'Country'
fig = px.line(dataset, x='Year', y='mental_fitness', color='Country', markers=True, color_discrete_sequence=['red', 'blue'], template='plotly_dark')
fig.show()  # Display the plot

df = dataset.copy()
df.info()
#transfer non-numeric labels to numeric labels
from sklearn.preprocessing import LabelEncoder  #Encoder is used to normalize labels
l=LabelEncoder()
for i in df.columns:
  if df[i].dtype =='object':
    df[i]=l.fit_transform(df[i])
df.shape
x=df.drop('mental_fitness',axis=1)
y=df['mental_fitness']
from sklearn.model_selection import train_test_split  #use to split the orginal data into training data and teat data
xtrain, xtest, ytrain, ytest= train_test_split(x,y,test_size=.20,random_state=2)

#training the data (6840,10)
#6840*80/100=5472
#6840*20/100=1368
print("xtrain:",xtrain.shape)
print("xtest:",xtest.shape)
print("\n ytarin:",ytrain.shape)
print("ytest:",ytest.shape)

from sklearn.linear_model import LinearRegression
from sklearn.metrics import mean_squared_error,r2_score
lr=LinearRegression()
lr.fit(xtrain,ytrain)       #fit training the data

#model evolution for the traing the data set
ytrain_pred = lr.predict(xtrain)

#the mean square error
mse = mean_squared_error(ytrain,ytrain_pred)

#Root mean square error
rmse = (np.sqrt(mean_squared_error(ytrain,ytrain_pred)))

#The cofficient of determination
r2 = r2_score(ytrain, ytrain_pred)

print("The Linear Regression model performance for training set")
print("......................................")
print('MSE is {}'.format(mse))
print('RMS is {}'.format(rmse))
print('R2 score is {}'.format(r2))

from sklearn.linear_model import LinearRegression
rf=LinearRegression()
rf.fit(xtrain,ytrain)

#model evaluation for teaining set
ytrain_pred = rf.predict(xtrain)
mse = mean_squared_error(ytrain,ytrain_pred)
rmse = (np.sqrt(mean_squared_error(ytrain,ytrain_pred)))
r2 = r2_score(ytrain, ytrain_pred)
print("The Random Forest Regression model performance for training set")
print("......................................")
print('MSE is {}'.format(mse))
print('RMS is {}'.format(rmse))
print('R2 score is {}'.format(r2))
## **Evaluation**


*   In this partr we compare th score of above two model


#Linear Regression model evaluation for testing set
ytest_pred = lr.predict(xtest)
mse = mean_squared_error(ytest,ytest_pred)
rmse = (np.sqrt(mean_squared_error(ytest,ytest_pred)))
r2 = r2_score(ytest, ytest_pred)
print("The Linear Regression model performance for testing set")
print("......................................")
print('MSE is {}'.format(mse))
print('RMS is {}'.format(rmse))
print('R2 score is {}'.format(r2))
#Random Forest Regression model evaluation for testing set
ytest_pred = rf.predict(xtest)
mse = mean_squared_error(ytest,ytest_pred)
rmse = (np.sqrt(mean_squared_error(ytest,ytest_pred)))
r2 = r2_score(ytest, ytest_pred)

print("\n \n The Rqandom Forest model performance for testing set")
print("......................................")
print('MSE is {}'.format(mse))
print('RMS is {}'.format(rmse))
print('R2 score is {}'.format(r2))
# **Conclusion:**

# **Random Forest Regression works** well on both train and test sets with r2 score of 0.99.

# As well as **Decision Tree Regression** also works well on both train and test set with r2 score of 0.98.
# **Predicting the value from the model using Random Forest Regression**
import numpy as np
from sklearn.preprocessing import LabelEncoder

# Initialize random seed
np.random.seed(range(0, 100))

print("Welcome to Mental Fitness Tracker!\nFill in the details to check your mental fitness!")

# Define LabelEncoder and model
l = LabelEncoder()  # Define LabelEncoder, assuming you have trained it before
rf = None  # Define your model (e.g., RandomForestRegressor)
# Load your trained model (e.g., rf = joblib.load('mymodel.joblib'))

# Get user inputs
try:
    country_name = input('Enter your country name: ')
    country_encoded = l.fit_transform([country_name])[0]  # Encode country

    year = int(input("Enter the year: "))

    # Parse and convert input rates to percentages
    schi = float(input("Enter your Schizophrenia rate in % (enter 0 if none): ")) * 100
    bipo_dis = float(input("Enter your Bipolar disorder rate in % (enter 0 if none): ")) * 100
    eat_dis = float(input("Enter your Eating disorder rate in % (enter 0 if none): ")) * 100
    anx = float(input("Enter your Anxiety rate in % (enter 0 if none): ")) * 10
    drug_use = float(input("Enter your Drug Usage rate in per year % (enter 0 if none): ")) * 100
    depr = float(input("Enter your Depression rate in % (enter 0 if none): ")) * 10
    alch = float(input("Enter your Alcohol consumption rate per year in % (enter 0 if none): ")) * 100

    # Make prediction
    prediction = rf.predict([[country_encoded, year, schi, bipo_dis, eat_dis, anx, drug_use, depr, alch]])

    # Format and display the prediction
    print(f"Your Mental Fitness is {prediction[0]:.2f}%")
except Exception as e:
    print(f"An error occurred: {e}")

print("Bye!")

# **Saving a model**
from joblib import dump,load
dump(rf,'mymodel1.joblib')
# **Load the Model**
obj=load('/content/mymodel.joblib')
obj.predict([[0,2023,0.22,0.034,40,0.34,0.65,0.65,0.22]])
